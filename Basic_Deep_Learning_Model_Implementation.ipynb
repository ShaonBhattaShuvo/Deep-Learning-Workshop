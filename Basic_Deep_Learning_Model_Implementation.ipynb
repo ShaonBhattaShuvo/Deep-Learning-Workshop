{
  "nbformat": 4,
  "nbformat_minor": 0,
  "metadata": {
    "colab": {
      "provenance": [],
      "authorship_tag": "ABX9TyOMhMLXtmHyhR3zBI4aNpTS",
      "include_colab_link": true
    },
    "kernelspec": {
      "name": "python3",
      "display_name": "Python 3"
    },
    "language_info": {
      "name": "python"
    }
  },
  "cells": [
    {
      "cell_type": "markdown",
      "metadata": {
        "id": "view-in-github",
        "colab_type": "text"
      },
      "source": [
        "<a href=\"https://colab.research.google.com/github/ShaonBhattaShuvo/Deep-Learning-Workshop/blob/master/Basic_Deep_Learning_Model_Implementation.ipynb\" target=\"_parent\"><img src=\"https://colab.research.google.com/assets/colab-badge.svg\" alt=\"Open In Colab\"/></a>"
      ]
    },
    {
      "cell_type": "markdown",
      "source": [
        "\"\"\"\n",
        "@author: Shaon Bhatta Shuvo\n",
        "\"\"\""
      ],
      "metadata": {
        "id": "4OUNOzaeBrcU"
      }
    },
    {
      "cell_type": "markdown",
      "source": [
        "Importing Libraries"
      ],
      "metadata": {
        "id": "dMx-uHrTDCcB"
      }
    },
    {
      "cell_type": "code",
      "source": [
        "import numpy as np\n",
        "import matplotlib.pyplot as plt\n",
        "import sklearn.datasets as skd\n",
        "from sklearn import preprocessing \n",
        "import tensorflow.keras as tfk\n",
        "from sklearn.model_selection import train_test_split\n",
        "from sklearn import metrics \n",
        "from mlxtend.plotting import plot_decision_regions"
      ],
      "metadata": {
        "id": "0BR7fBM7BuDp"
      },
      "execution_count": 34,
      "outputs": []
    },
    {
      "cell_type": "markdown",
      "source": [
        "#Generating synthetic non-linear data to solve classification problem\n"
      ],
      "metadata": {
        "id": "82678TC2Cfns"
      }
    },
    {
      "cell_type": "code",
      "source": [
        "X,y = skd.make_circles(n_samples=100, shuffle=False, noise=None, random_state=None, factor=0.9)\n",
        "#print(f\"X={X} \\n y={y}\")"
      ],
      "metadata": {
        "id": "2EX2NkfVCc_K"
      },
      "execution_count": 43,
      "outputs": []
    },
    {
      "cell_type": "markdown",
      "source": [
        "#Finding and counting unique elements. \n"
      ],
      "metadata": {
        "id": "z-HNwEMFEjDk"
      }
    },
    {
      "cell_type": "code",
      "source": [
        "unique_elements, counts_elements = np.unique(y, return_counts=True)\n",
        "print(np.asarray((unique_elements, counts_elements)))"
      ],
      "metadata": {
        "colab": {
          "base_uri": "https://localhost:8080/"
        },
        "id": "t0P0-F2_FQc6",
        "outputId": "0e54721b-b579-4f92-9299-a443901cb3d1"
      },
      "execution_count": 44,
      "outputs": [
        {
          "output_type": "stream",
          "name": "stdout",
          "text": [
            "[[ 0  1]\n",
            " [50 50]]\n"
          ]
        }
      ]
    },
    {
      "cell_type": "markdown",
      "source": [
        "#Visualizing the synthetic dataset of Class 1 and Class 0: \n"
      ],
      "metadata": {
        "id": "DztimyAXHEtk"
      }
    },
    {
      "cell_type": "code",
      "source": [
        "plt.plot(X[:, 0][y == 0], X[:, 1][y == 0], 'g^', label='Class: 0')\n",
        "plt.plot(X[:, 0][y == 1], X[:, 1][y == 1], 'ro' , label=\"Class: 1\")\n",
        "plt.title(\"Visualizing the synthetic dataset of class 1 and 0\")\n",
        "plt.xlabel(\"X1\")\n",
        "plt.ylabel(\"X2\")\n",
        "plt.legend()\n",
        "plt.show()  "
      ],
      "metadata": {
        "colab": {
          "base_uri": "https://localhost:8080/",
          "height": 295
        },
        "id": "LTw7Od8LGqhP",
        "outputId": "4dfde0aa-0cfc-4ac4-a221-814ccafe1a2f"
      },
      "execution_count": 45,
      "outputs": [
        {
          "output_type": "display_data",
          "data": {
            "text/plain": [
              "<Figure size 432x288 with 1 Axes>"
            ],
            "image/png": "[encoded data removed]"
          },
          "metadata": {
            "needs_background": "light"
          }
        }
      ]
    },
    {
      "cell_type": "markdown",
      "source": [
        "#Splitting the dataset into train and test sets. "
      ],
      "metadata": {
        "id": "4e-w0BsrIaVu"
      }
    },
    {
      "cell_type": "code",
      "source": [
        "X_train, X_test, y_train, y_test = train_test_split(X, y, test_size=0.2, random_state=0)"
      ],
      "metadata": {
        "id": "7J3lducHIZTc"
      },
      "execution_count": 46,
      "outputs": []
    },
    {
      "cell_type": "markdown",
      "source": [
        "#Frequency of unique class of elements in the test set:"
      ],
      "metadata": {
        "id": "h1KcUeaRI5P3"
      }
    },
    {
      "cell_type": "code",
      "source": [
        "unique_elements_test, count_elements_test=np.unique(y_test, return_counts=True)\n",
        "print(unique_elements_test, count_elements_test)"
      ],
      "metadata": {
        "colab": {
          "base_uri": "https://localhost:8080/"
        },
        "id": "rEqdbwnbJF-i",
        "outputId": "477bb2bb-600c-4435-e313-63231a3f654f"
      },
      "execution_count": 47,
      "outputs": [
        {
          "output_type": "stream",
          "name": "stdout",
          "text": [
            "[0 1] [10 10]\n"
          ]
        }
      ]
    },
    {
      "cell_type": "markdown",
      "source": [
        "#Creating validation set  by copying last 10 elements from the training set\n",
        "\n"
      ],
      "metadata": {
        "id": "RyBWd7LiKSZe"
      }
    },
    {
      "cell_type": "code",
      "source": [
        "X_val = X_train[70:]\n",
        "y_val = y_train[70:]"
      ],
      "metadata": {
        "id": "KRX-qL2fKYBm"
      },
      "execution_count": 48,
      "outputs": []
    },
    {
      "cell_type": "markdown",
      "source": [
        "#Removing the validation set (last 10 elements) from training set\n"
      ],
      "metadata": {
        "id": "_SA37M30KeK2"
      }
    },
    {
      "cell_type": "code",
      "source": [
        "X_train = X_train[:70]\n",
        "y_train = y_train[:70]"
      ],
      "metadata": {
        "id": "XMrAxW3QLFk9"
      },
      "execution_count": 49,
      "outputs": []
    },
    {
      "cell_type": "markdown",
      "source": [
        "#Building a simple deep neural model\n"
      ],
      "metadata": {
        "id": "GiAVqNJhMegW"
      }
    },
    {
      "cell_type": "markdown",
      "source": [
        "2 input -> [50 units in layer1] ->[100 units in layer2] ->[100 units in layer3] -> 1 output"
      ],
      "metadata": {
        "id": "70NVzWnLOwB0"
      }
    },
    {
      "cell_type": "code",
      "source": [
        "model = tfk.Sequential()\n",
        "model.add(tfk.layers.Dense(50,input_shape=(2,), activation='relu')) #First Hidden Layer\n",
        "model.add(tfk.layers.Dense(100, activation='relu')) #Second Hidden Layer\n",
        "model.add(tfk.layers.Dense(100, activation='relu')) #Third Hidden Layer\n",
        "model.add(tfk.layers.Dense(1, activation='sigmoid')) #Output Layer"
      ],
      "metadata": {
        "id": "RvdWsTobMdYs"
      },
      "execution_count": 79,
      "outputs": []
    },
    {
      "cell_type": "markdown",
      "source": [
        "# Compiling the model for binary classification \n",
        "[Use loss = categorical_crossentropy for multiclass prediction.] "
      ],
      "metadata": {
        "id": "s1qTAZLBPF1a"
      }
    },
    {
      "cell_type": "code",
      "source": [
        "model.compile(optimizer='adam', loss='binary_crossentropy', metrics=['accuracy']) \n"
      ],
      "metadata": {
        "id": "IlbVK1_eOpUC"
      },
      "execution_count": 70,
      "outputs": []
    },
    {
      "cell_type": "markdown",
      "source": [
        "#Model Overview"
      ],
      "metadata": {
        "id": "BId9DTE7P9ea"
      }
    },
    {
      "cell_type": "code",
      "source": [
        "model.summary()"
      ],
      "metadata": {
        "colab": {
          "base_uri": "https://localhost:8080/"
        },
        "id": "YgzYJIKuPzrU",
        "outputId": "4a848a2b-a5db-41a5-8d47-9a3bb2031ae3"
      },
      "execution_count": 71,
      "outputs": [
        {
          "output_type": "stream",
          "name": "stdout",
          "text": [
            "Model: \"sequential_5\"\n",
            "_________________________________________________________________\n",
            " Layer (type)                Output Shape              Param #   \n",
            "=================================================================\n",
            " dense_20 (Dense)            (None, 500)               1500      \n",
            "                                                                 \n",
            " dense_21 (Dense)            (None, 1000)              501000    \n",
            "                                                                 \n",
            " dense_22 (Dense)            (None, 1000)              1001000   \n",
            "                                                                 \n",
            " dense_23 (Dense)            (None, 1000)              1001000   \n",
            "                                                                 \n",
            " dense_24 (Dense)            (None, 1000)              1001000   \n",
            "                                                                 \n",
            " dense_25 (Dense)            (None, 1)                 1001      \n",
            "                                                                 \n",
            "=================================================================\n",
            "Total params: 3,506,501\n",
            "Trainable params: 3,506,501\n",
            "Non-trainable params: 0\n",
            "_________________________________________________________________\n"
          ]
        }
      ]
    },
    {
      "cell_type": "markdown",
      "source": [
        "#Train the model"
      ],
      "metadata": {
        "id": "96vaoCCDPt21"
      }
    },
    {
      "cell_type": "code",
      "source": [
        "training = model.fit(X_train,y_train, epochs = 50, batch_size =10, validation_data =(X_val,y_val))\n"
      ],
      "metadata": {
        "colab": {
          "base_uri": "https://localhost:8080/"
        },
        "id": "Ek82CaNgQ_DO",
        "outputId": "4238aee8-c38b-4845-b5f3-0fe90593d726"
      },
      "execution_count": 72,
      "outputs": [
        {
          "output_type": "stream",
          "name": "stdout",
          "text": [
            "Epoch 1/50\n",
            "7/7 [==============================] - 1s 69ms/step - loss: 0.7125 - accuracy: 0.4429 - val_loss: 0.6956 - val_accuracy: 0.5000\n",
            "Epoch 2/50\n",
            "7/7 [==============================] - 0s 49ms/step - loss: 0.7046 - accuracy: 0.5000 - val_loss: 0.6969 - val_accuracy: 0.5000\n",
            "Epoch 3/50\n",
            "7/7 [==============================] - 0s 47ms/step - loss: 0.6930 - accuracy: 0.4429 - val_loss: 0.6901 - val_accuracy: 0.4000\n",
            "Epoch 4/50\n",
            "7/7 [==============================] - 0s 47ms/step - loss: 0.6964 - accuracy: 0.5000 - val_loss: 0.6864 - val_accuracy: 0.5000\n",
            "Epoch 5/50\n",
            "7/7 [==============================] - 0s 40ms/step - loss: 0.6887 - accuracy: 0.5000 - val_loss: 0.6851 - val_accuracy: 0.6000\n",
            "Epoch 6/50\n",
            "7/7 [==============================] - 0s 39ms/step - loss: 0.6878 - accuracy: 0.5429 - val_loss: 0.6844 - val_accuracy: 0.5000\n",
            "Epoch 7/50\n",
            "7/7 [==============================] - 0s 36ms/step - loss: 0.6891 - accuracy: 0.5714 - val_loss: 0.6832 - val_accuracy: 0.5000\n",
            "Epoch 8/50\n",
            "7/7 [==============================] - 0s 38ms/step - loss: 0.6864 - accuracy: 0.5429 - val_loss: 0.6788 - val_accuracy: 0.5000\n",
            "Epoch 9/50\n",
            "7/7 [==============================] - 0s 48ms/step - loss: 0.6861 - accuracy: 0.5714 - val_loss: 0.6784 - val_accuracy: 0.5000\n",
            "Epoch 10/50\n",
            "7/7 [==============================] - 0s 47ms/step - loss: 0.6865 - accuracy: 0.5571 - val_loss: 0.6773 - val_accuracy: 0.5000\n",
            "Epoch 11/50\n",
            "7/7 [==============================] - 0s 51ms/step - loss: 0.6853 - accuracy: 0.5429 - val_loss: 0.6808 - val_accuracy: 0.5000\n",
            "Epoch 12/50\n",
            "7/7 [==============================] - 0s 56ms/step - loss: 0.6848 - accuracy: 0.5857 - val_loss: 0.6786 - val_accuracy: 0.5000\n",
            "Epoch 13/50\n",
            "7/7 [==============================] - 0s 62ms/step - loss: 0.6839 - accuracy: 0.5571 - val_loss: 0.6803 - val_accuracy: 0.6000\n",
            "Epoch 14/50\n",
            "7/7 [==============================] - 1s 92ms/step - loss: 0.6807 - accuracy: 0.5571 - val_loss: 0.6826 - val_accuracy: 0.5000\n",
            "Epoch 15/50\n",
            "7/7 [==============================] - 0s 66ms/step - loss: 0.6846 - accuracy: 0.5857 - val_loss: 0.6768 - val_accuracy: 0.6000\n",
            "Epoch 16/50\n",
            "7/7 [==============================] - 1s 109ms/step - loss: 0.6831 - accuracy: 0.5714 - val_loss: 0.6918 - val_accuracy: 0.5000\n",
            "Epoch 17/50\n",
            "7/7 [==============================] - 0s 60ms/step - loss: 0.6758 - accuracy: 0.5714 - val_loss: 0.6787 - val_accuracy: 0.5000\n",
            "Epoch 18/50\n",
            "7/7 [==============================] - 0s 46ms/step - loss: 0.6979 - accuracy: 0.5571 - val_loss: 0.6742 - val_accuracy: 0.5000\n",
            "Epoch 19/50\n",
            "7/7 [==============================] - 0s 46ms/step - loss: 0.6758 - accuracy: 0.6286 - val_loss: 0.6770 - val_accuracy: 0.6000\n",
            "Epoch 20/50\n",
            "7/7 [==============================] - 0s 48ms/step - loss: 0.6797 - accuracy: 0.5857 - val_loss: 0.6732 - val_accuracy: 0.6000\n",
            "Epoch 21/50\n",
            "7/7 [==============================] - 0s 35ms/step - loss: 0.6796 - accuracy: 0.4857 - val_loss: 0.6859 - val_accuracy: 0.5000\n",
            "Epoch 22/50\n",
            "7/7 [==============================] - 0s 37ms/step - loss: 0.6909 - accuracy: 0.4857 - val_loss: 0.6771 - val_accuracy: 0.6000\n",
            "Epoch 23/50\n",
            "7/7 [==============================] - 0s 38ms/step - loss: 0.6739 - accuracy: 0.5571 - val_loss: 0.6703 - val_accuracy: 0.5000\n",
            "Epoch 24/50\n",
            "7/7 [==============================] - 0s 37ms/step - loss: 0.6630 - accuracy: 0.5857 - val_loss: 0.6717 - val_accuracy: 0.5000\n",
            "Epoch 25/50\n",
            "7/7 [==============================] - 0s 36ms/step - loss: 0.6744 - accuracy: 0.5857 - val_loss: 0.6498 - val_accuracy: 0.7000\n",
            "Epoch 26/50\n",
            "7/7 [==============================] - 0s 36ms/step - loss: 0.6688 - accuracy: 0.5857 - val_loss: 0.6865 - val_accuracy: 0.5000\n",
            "Epoch 27/50\n",
            "7/7 [==============================] - 0s 36ms/step - loss: 0.6433 - accuracy: 0.6429 - val_loss: 0.6960 - val_accuracy: 0.5000\n",
            "Epoch 28/50\n",
            "7/7 [==============================] - 0s 38ms/step - loss: 0.6706 - accuracy: 0.5714 - val_loss: 0.6741 - val_accuracy: 0.6000\n",
            "Epoch 29/50\n",
            "7/7 [==============================] - 0s 40ms/step - loss: 0.6876 - accuracy: 0.5571 - val_loss: 0.7262 - val_accuracy: 0.5000\n",
            "Epoch 30/50\n",
            "7/7 [==============================] - 0s 36ms/step - loss: 0.6888 - accuracy: 0.5429 - val_loss: 0.6950 - val_accuracy: 0.5000\n",
            "Epoch 31/50\n",
            "7/7 [==============================] - 0s 35ms/step - loss: 0.6758 - accuracy: 0.5571 - val_loss: 0.6695 - val_accuracy: 0.6000\n",
            "Epoch 32/50\n",
            "7/7 [==============================] - 0s 40ms/step - loss: 0.6695 - accuracy: 0.6143 - val_loss: 0.6593 - val_accuracy: 0.7000\n",
            "Epoch 33/50\n",
            "7/7 [==============================] - 0s 48ms/step - loss: 0.6624 - accuracy: 0.5571 - val_loss: 0.6584 - val_accuracy: 0.5000\n",
            "Epoch 34/50\n",
            "7/7 [==============================] - 0s 47ms/step - loss: 0.6519 - accuracy: 0.6000 - val_loss: 0.6926 - val_accuracy: 0.7000\n",
            "Epoch 35/50\n",
            "7/7 [==============================] - 0s 49ms/step - loss: 0.6283 - accuracy: 0.6714 - val_loss: 0.6716 - val_accuracy: 0.6000\n",
            "Epoch 36/50\n",
            "7/7 [==============================] - 0s 51ms/step - loss: 0.6143 - accuracy: 0.6429 - val_loss: 0.6121 - val_accuracy: 0.7000\n",
            "Epoch 37/50\n",
            "7/7 [==============================] - 0s 59ms/step - loss: 0.5904 - accuracy: 0.7286 - val_loss: 0.5178 - val_accuracy: 0.8000\n",
            "Epoch 38/50\n",
            "7/7 [==============================] - 0s 67ms/step - loss: 0.5420 - accuracy: 0.7000 - val_loss: 0.5660 - val_accuracy: 0.6000\n",
            "Epoch 39/50\n",
            "7/7 [==============================] - 0s 57ms/step - loss: 0.6420 - accuracy: 0.7000 - val_loss: 0.5327 - val_accuracy: 0.7000\n",
            "Epoch 40/50\n",
            "7/7 [==============================] - 0s 64ms/step - loss: 0.5550 - accuracy: 0.7143 - val_loss: 0.6099 - val_accuracy: 0.6000\n",
            "Epoch 41/50\n",
            "7/7 [==============================] - 1s 77ms/step - loss: 0.5126 - accuracy: 0.7714 - val_loss: 0.5480 - val_accuracy: 0.7000\n",
            "Epoch 42/50\n",
            "7/7 [==============================] - 1s 75ms/step - loss: 0.5741 - accuracy: 0.7429 - val_loss: 0.5004 - val_accuracy: 0.8000\n",
            "Epoch 43/50\n",
            "7/7 [==============================] - 0s 62ms/step - loss: 0.4801 - accuracy: 0.7571 - val_loss: 0.4932 - val_accuracy: 0.8000\n",
            "Epoch 44/50\n",
            "7/7 [==============================] - 0s 37ms/step - loss: 0.5843 - accuracy: 0.6857 - val_loss: 0.6640 - val_accuracy: 0.6000\n",
            "Epoch 45/50\n",
            "7/7 [==============================] - 0s 38ms/step - loss: 0.6070 - accuracy: 0.5714 - val_loss: 0.5042 - val_accuracy: 0.6000\n",
            "Epoch 46/50\n",
            "7/7 [==============================] - 0s 38ms/step - loss: 0.6383 - accuracy: 0.6714 - val_loss: 0.5611 - val_accuracy: 0.7000\n",
            "Epoch 47/50\n",
            "7/7 [==============================] - 0s 37ms/step - loss: 0.5127 - accuracy: 0.7714 - val_loss: 0.5640 - val_accuracy: 0.9000\n",
            "Epoch 48/50\n",
            "7/7 [==============================] - 0s 35ms/step - loss: 0.4409 - accuracy: 0.8714 - val_loss: 0.5290 - val_accuracy: 0.8000\n",
            "Epoch 49/50\n",
            "7/7 [==============================] - 0s 38ms/step - loss: 0.2762 - accuracy: 0.9286 - val_loss: 0.4245 - val_accuracy: 0.8000\n",
            "Epoch 50/50\n",
            "7/7 [==============================] - 0s 39ms/step - loss: 0.1194 - accuracy: 0.9714 - val_loss: 0.5909 - val_accuracy: 0.9000\n"
          ]
        }
      ]
    },
    {
      "cell_type": "markdown",
      "source": [
        "#Visulaizing the Training and Validation Sets Loss and Accuracy\n"
      ],
      "metadata": {
        "id": "zP8L177rRhNK"
      }
    },
    {
      "cell_type": "code",
      "source": [
        "fig, axes = plt.subplots(nrows=1, ncols=2, figsize=(8,4))\n",
        "#Plot training and validation accuracy values\n",
        "#axes[0].set_ylim(0,1) #if we want to limit axis in certain range\n",
        "axes[0].plot(training.history['accuracy'], label='Train')\n",
        "axes[0].plot(training.history['val_accuracy'], label='Validation')\n",
        "axes[0].set_title('Model Accuracy')\n",
        "axes[0].set_xlabel('Epoch')\n",
        "axes[0].set_ylabel('Accuracy')\n",
        "axes[0].legend()\n",
        "#Plot training and validation loss values\n",
        "#axes[1].set_ylim(0,1)\n",
        "axes[1].plot(training.history['loss'], label='Train')\n",
        "axes[1].plot(training.history['val_loss'], label='Validation')\n",
        "axes[1].set_title('Model Loss')\n",
        "axes[1].set_xlabel('Epoch')\n",
        "axes[1].set_ylabel('Loss')\n",
        "axes[1].legend()\n",
        "plt.tight_layout()\n",
        "plt.show()"
      ],
      "metadata": {
        "colab": {
          "base_uri": "https://localhost:8080/",
          "height": 297
        },
        "id": "BSY9kIGhRhw4",
        "outputId": "b78042d3-5b44-4be0-a7e1-a37e6d7c9051"
      },
      "execution_count": 73,
      "outputs": [
        {
          "output_type": "display_data",
          "data": {
            "text/plain": [
              "<Figure size 576x288 with 2 Axes>"
            ],
            "image/png": "[encoded data removed]"
          },
          "metadata": {
            "needs_background": "light"
          }
        }
      ]
    },
    {
      "cell_type": "markdown",
      "source": [
        "# Evaluating the performance on the Test set "
      ],
      "metadata": {
        "id": "-ro-lJG3SH_n"
      }
    },
    {
      "cell_type": "code",
      "source": [
        "test_loss_accuracy = model.evaluate(X_test, y_test, verbose=2)\n"
      ],
      "metadata": {
        "colab": {
          "base_uri": "https://localhost:8080/"
        },
        "id": "LeC7WOB8SN9N",
        "outputId": "690b560b-3292-46d8-c2fb-a27aec269c46"
      },
      "execution_count": 67,
      "outputs": [
        {
          "output_type": "stream",
          "name": "stdout",
          "text": [
            "1/1 - 0s - loss: 0.6689 - accuracy: 0.6500 - 139ms/epoch - 139ms/step\n"
          ]
        }
      ]
    },
    {
      "cell_type": "markdown",
      "source": [
        "# Visualising the Training and Test set plot decision area\n"
      ],
      "metadata": {
        "id": "vpvOaoP6Sm5r"
      }
    },
    {
      "cell_type": "code",
      "source": [
        "fig, axes = plt.subplots (nrows=1, ncols=2, figsize=(8, 4))\n",
        "fig1 = plot_decision_regions(X_train, y_train, clf=model, ax=axes[0], legend=0)\n",
        "fig2 = plot_decision_regions(X_test, y_test, clf=model, ax=axes[1], legend=0)\n",
        "axes[0].set_title('NN Plot Decision Region (Training set)')\n",
        "axes[0].set_xlabel('x1')\n",
        "axes[0].set_ylabel('x2')\n",
        "axes[1].set_title('NN Plot Decision Region (Test set)')\n",
        "axes[1].set_xlabel('x1')\n",
        "axes[1].set_ylabel('x2')\n",
        "\n",
        "handles, labels = fig1.get_legend_handles_labels()\n",
        "fig1.legend(handles, \n",
        "          ['class 0', 'class 1'])\n",
        "fig2.legend(handles, \n",
        "          ['class 0', 'class 1'])\n",
        "\n",
        "plt.tight_layout()\n",
        "plt.show()"
      ],
      "metadata": {
        "colab": {
          "base_uri": "https://localhost:8080/",
          "height": 388
        },
        "id": "8f8D9LEGSmFR",
        "outputId": "679b6528-488f-4246-9885-bb7d6114b6a6"
      },
      "execution_count": 74,
      "outputs": [
        {
          "output_type": "stream",
          "name": "stdout",
          "text": [
            "5184/5184 [==============================] - 58s 11ms/step\n",
            "  11/5184 [..............................] - ETA: 1:00"
          ]
        },
        {
          "output_type": "stream",
          "name": "stderr",
          "text": [
            "/usr/local/lib/python3.7/dist-packages/mlxtend/plotting/decision_regions.py:244: MatplotlibDeprecationWarning: Passing unsupported keyword arguments to axis() will raise a TypeError in 3.3.\n",
            "  ax.axis(xmin=xx.min(), xmax=xx.max(), y_min=yy.min(), y_max=yy.max())\n"
          ]
        },
        {
          "output_type": "stream",
          "name": "stdout",
          "text": [
            "5184/5184 [==============================] - 55s 11ms/step\n"
          ]
        },
        {
          "output_type": "display_data",
          "data": {
            "text/plain": [
              "<Figure size 576x288 with 2 Axes>"
            ],
            "image/png": "[encoded data removed]"
          },
          "metadata": {
            "needs_background": "light"
          }
        }
      ]
    },
    {
      "cell_type": "markdown",
      "source": [
        "# Using non-linear SVM calssifier , use kernel=linear for linear classifier. \n",
        "\n"
      ],
      "metadata": {
        "id": "bbAI146sTZxw"
      }
    },
    {
      "cell_type": "code",
      "source": [
        "from sklearn import svm\n",
        "classifier = svm.SVC(kernel='rbf') #rbf = 'radial basis function' for non-linear classification\n",
        "classifier.fit(X_train,y_train)"
      ],
      "metadata": {
        "colab": {
          "base_uri": "https://localhost:8080/"
        },
        "id": "7yC5Jsc_TeU0",
        "outputId": "ffded649-3479-4af4-bf47-bb7d08dcaa44"
      },
      "execution_count": 75,
      "outputs": [
        {
          "output_type": "execute_result",
          "data": {
            "text/plain": [
              "SVC()"
            ]
          },
          "metadata": {},
          "execution_count": 75
        }
      ]
    },
    {
      "cell_type": "markdown",
      "source": [
        "# Predicting Teset set result for SVM\n"
      ],
      "metadata": {
        "id": "IzcCC_rrTjc-"
      }
    },
    {
      "cell_type": "code",
      "source": [
        "y_pred = classifier.predict(X_test)"
      ],
      "metadata": {
        "id": "5oQasBIXTpgh"
      },
      "execution_count": 76,
      "outputs": []
    },
    {
      "cell_type": "markdown",
      "source": [
        "# Generating confusion matrics, details classification report\n"
      ],
      "metadata": {
        "id": "6X-v10C6T5Va"
      }
    },
    {
      "cell_type": "code",
      "source": [
        "cm = metrics.confusion_matrix(y_test,y_pred)\n",
        "print(\"Confusion Matrix for SVM Clssifer:\\n \",cm)\n",
        "print( \"{0}\".format(metrics.classification_report(y_test,y_pred)))"
      ],
      "metadata": {
        "colab": {
          "base_uri": "https://localhost:8080/"
        },
        "id": "fGrKvyfmT2o3",
        "outputId": "179a540b-429e-4580-c693-03ee40022608"
      },
      "execution_count": 77,
      "outputs": [
        {
          "output_type": "stream",
          "name": "stdout",
          "text": [
            "Confusion Matrix for SVM Clssifer:\n",
            "  [[2 8]\n",
            " [5 5]]\n",
            "              precision    recall  f1-score   support\n",
            "\n",
            "           0       0.29      0.20      0.24        10\n",
            "           1       0.38      0.50      0.43        10\n",
            "\n",
            "    accuracy                           0.35        20\n",
            "   macro avg       0.34      0.35      0.34        20\n",
            "weighted avg       0.34      0.35      0.34        20\n",
            "\n"
          ]
        }
      ]
    },
    {
      "cell_type": "markdown",
      "source": [
        "#Visualising the Training and Test set plot decision area for SVM classifier\n"
      ],
      "metadata": {
        "id": "L9KZCV1PU0b4"
      }
    },
    {
      "cell_type": "code",
      "source": [
        "fig, axes = plt.subplots (nrows=1, ncols=2, figsize=(8, 4))\n",
        "fig1 = plot_decision_regions(X_train, y_train, clf=classifier, ax=axes[0], legend=0)\n",
        "fig2 = plot_decision_regions(X_test, y_test, clf=classifier, ax=axes[1], legend=0)\n",
        "axes[0].set_title('SVM Plot Decision Region (Training set)')\n",
        "axes[0].set_xlabel('x1')\n",
        "axes[0].set_ylabel('x2')\n",
        "axes[1].set_title('SVM Plot Decision Region (Test set)')\n",
        "axes[1].set_xlabel('x1')\n",
        "axes[1].set_ylabel('x2')\n",
        "handles, labels = fig1.get_legend_handles_labels()\n",
        "fig1.legend(handles, \n",
        "          ['class 0', 'class 1'])\n",
        "fig2.legend(handles, \n",
        "          ['class 0', 'class 1'])\n",
        "\n",
        "plt.tight_layout()\n",
        "plt.show()"
      ],
      "metadata": {
        "colab": {
          "base_uri": "https://localhost:8080/",
          "height": 388
        },
        "id": "h_mis3V7U3OH",
        "outputId": "1b93fe3e-b872-42fd-e6c0-49d52940ad8f"
      },
      "execution_count": 78,
      "outputs": [
        {
          "output_type": "stream",
          "name": "stderr",
          "text": [
            "/usr/local/lib/python3.7/dist-packages/mlxtend/plotting/decision_regions.py:244: MatplotlibDeprecationWarning: Passing unsupported keyword arguments to axis() will raise a TypeError in 3.3.\n",
            "  ax.axis(xmin=xx.min(), xmax=xx.max(), y_min=yy.min(), y_max=yy.max())\n",
            "/usr/local/lib/python3.7/dist-packages/mlxtend/plotting/decision_regions.py:244: MatplotlibDeprecationWarning: Passing unsupported keyword arguments to axis() will raise a TypeError in 3.3.\n",
            "  ax.axis(xmin=xx.min(), xmax=xx.max(), y_min=yy.min(), y_max=yy.max())\n"
          ]
        },
        {
          "output_type": "display_data",
          "data": {
            "text/plain": [
              "<Figure size 576x288 with 2 Axes>"
            ],
            "image/png": "[encoded data removed]"
          },
          "metadata": {
            "needs_background": "light"
          }
        }
      ]
    }
  ]
}